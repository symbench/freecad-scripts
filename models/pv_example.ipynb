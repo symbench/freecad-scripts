{
 "cells": [
  {
   "cell_type": "code",
   "execution_count": 1,
   "metadata": {},
   "outputs": [],
   "source": [
    "from freecad_scripts.pressure_vessel import PressureVessel"
   ]
  },
  {
   "cell_type": "code",
   "execution_count": 2,
   "metadata": {},
   "outputs": [
    {
     "name": "stdout",
     "output_type": "stream",
     "text": [
      "Opening: pv_capsule1.FCStd\n"
     ]
    }
   ],
   "source": [
    "vessel = PressureVessel('pv_capsule1.FCStd')"
   ]
  },
  {
   "cell_type": "code",
   "execution_count": 3,
   "metadata": {},
   "outputs": [
    {
     "name": "stdout",
     "output_type": "stream",
     "text": [
      "Object names: Body, Origin, X_Axis, Y_Axis, Z_Axis, XY_Plane, XZ_Plane, YZ_Plane, Sketch, Revolution, Analysis, SolverCcxTools, MaterialSolid, FEMMeshGmsh, ConstraintFixed, ConstraintPressure\n",
      "Sketch parameters:\n",
      "  thickness = 0.001 m\n",
      "  radius = 0.02 m\n",
      "  length = 0.015 m\n",
      "Body properties:\n",
      "  body_area = 0.013239 m^2\n",
      "  body_volume = 0.000006617 m^3\n",
      "  body_mass = 0.018 kg\n",
      "  outer_area = 0.006912 m^2\n",
      "  outer_volume = 0.000052360 m^3\n",
      "  inner_area = 0.006327 m^2\n",
      "  inner_volume = 0.000045743 m^3\n",
      "FEM parameters:\n",
      "  pressure = 1.0 MPa\n",
      "  mesh_length = 0.002 m\n",
      "Material parameters:\n",
      "  youngs_modulus = 69000.0 MPa\n",
      "  poisson_ratio = 0.33\n",
      "  tensile_strength = 310.0 MPa\n",
      "  density = 2700.0 kg/m^3\n",
      "Mesh properties: none\n",
      "FEM Results: none\n"
     ]
    }
   ],
   "source": [
    "vessel.print_info()"
   ]
  },
  {
   "cell_type": "code",
   "execution_count": 4,
   "metadata": {},
   "outputs": [
    {
     "name": "stdout",
     "output_type": "stream",
     "text": [
      "Running GMSH mesher ... 25098 nodes, 324 edges, 8280 faces, 12672 volumes\n",
      "Running FEM analysis ... vonMises stress: 24.52 MPa\n",
      "Object names: Body, Origin, X_Axis, Y_Axis, Z_Axis, XY_Plane, XZ_Plane, YZ_Plane, Sketch, Revolution, Analysis, SolverCcxTools, MaterialSolid, FEMMeshGmsh, ConstraintFixed, ConstraintPressure, ResultMesh, CCX_Results, ccx_dat_file\n",
      "Sketch parameters:\n",
      "  thickness = 0.001 m\n",
      "  radius = 0.02 m\n",
      "  length = 0.015 m\n",
      "Body properties:\n",
      "  body_area = 0.013239 m^2\n",
      "  body_volume = 0.000006617 m^3\n",
      "  body_mass = 0.018 kg\n",
      "  outer_area = 0.006912 m^2\n",
      "  outer_volume = 0.000052360 m^3\n",
      "  inner_area = 0.006327 m^2\n",
      "  inner_volume = 0.000045743 m^3\n",
      "FEM parameters:\n",
      "  pressure = 1.0 MPa\n",
      "  mesh_length = 0.002 m\n",
      "Material parameters:\n",
      "  youngs_modulus = 69000.0 MPa\n",
      "  poisson_ratio = 0.33\n",
      "  tensile_strength = 310.0 MPa\n",
      "  density = 2700.0 kg/m^3\n",
      "Mesh properties:\n",
      "  node_count = 25098\n",
      "  edge_count = 324\n",
      "  face_count = 8280\n",
      "  volume_count = 12672\n",
      "FEM results:\n",
      "  vonmises_stress = 24.51831653459467 MPa\n",
      "  tresca_stress = 13.96534830783086 MPa\n",
      "  displacement = 4.9996346861545795e-06 m\n",
      "  has_failed = False\n"
     ]
    }
   ],
   "source": [
    "vessel.run_analysis()\n",
    "vessel.print_info()"
   ]
  },
  {
   "cell_type": "code",
   "execution_count": 5,
   "metadata": {},
   "outputs": [
    {
     "name": "stdout",
     "output_type": "stream",
     "text": [
      "Running GMSH mesher ... 17936 nodes, 272 edges, 5908 faces, 9068 volumes\n",
      "Running FEM analysis ... vonMises stress: 29.30 MPa\n",
      "Object names: Body, Origin, X_Axis, Y_Axis, Z_Axis, XY_Plane, XZ_Plane, YZ_Plane, Sketch, Revolution, Analysis, SolverCcxTools, MaterialSolid, FEMMeshGmsh, ConstraintFixed, ConstraintPressure, ResultMesh, CCX_Results, ccx_dat_file\n",
      "Sketch parameters:\n",
      "  thickness = 0.001 m\n",
      "  radius = 0.025 m\n",
      "  length = 0.015 m\n",
      "Body properties:\n",
      "  body_area = 0.019710 m^2\n",
      "  body_volume = 0.000009853 m^3\n",
      "  body_mass = 0.027 kg\n",
      "  outer_area = 0.010210 m^2\n",
      "  outer_volume = 0.000094902 m^3\n",
      "  inner_area = 0.009500 m^2\n",
      "  inner_volume = 0.000085049 m^3\n",
      "FEM parameters:\n",
      "  pressure = 1.0 MPa\n",
      "  mesh_length = 0.003 m\n",
      "Material parameters:\n",
      "  youngs_modulus = 69000.0 MPa\n",
      "  poisson_ratio = 0.33\n",
      "  tensile_strength = 310.0 MPa\n",
      "  density = 2700.0 kg/m^3\n",
      "Mesh properties:\n",
      "  node_count = 17936\n",
      "  edge_count = 272\n",
      "  face_count = 5908\n",
      "  volume_count = 9068\n",
      "FEM results:\n",
      "  vonmises_stress = 29.2992913285973 MPa\n",
      "  tresca_stress = 16.661676034081292 MPa\n",
      "  displacement = 7.607343020779331e-06 m\n",
      "  has_failed = False\n"
     ]
    }
   ],
   "source": [
    "vessel.set('radius', 0.025)\n",
    "vessel.set('mesh_length', 0.003)\n",
    "vessel.run_analysis()\n",
    "vessel.print_info()"
   ]
  },
  {
   "cell_type": "code",
   "execution_count": null,
   "metadata": {},
   "outputs": [],
   "source": []
  }
 ],
 "metadata": {
  "kernelspec": {
   "display_name": "Python 3",
   "language": "python",
   "name": "python3"
  },
  "language_info": {
   "codemirror_mode": {
    "name": "ipython",
    "version": 3
   },
   "file_extension": ".py",
   "mimetype": "text/x-python",
   "name": "python",
   "nbconvert_exporter": "python",
   "pygments_lexer": "ipython3",
   "version": "3.8.10"
  }
 },
 "nbformat": 4,
 "nbformat_minor": 4
}
